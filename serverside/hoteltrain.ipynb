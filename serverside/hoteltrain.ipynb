{
 "cells": [
  {
   "cell_type": "code",
   "execution_count": 3,
   "metadata": {},
   "outputs": [],
   "source": [
    "import pandas as pd\n",
    "\n",
    "df=pd.read_csv(\"Hotel_Reviews.csv\")"
   ]
  },
  {
   "cell_type": "code",
   "execution_count": 4,
   "metadata": {},
   "outputs": [
    {
     "name": "stdout",
     "output_type": "stream",
     "text": [
      "<class 'pandas.core.frame.DataFrame'>\n",
      "RangeIndex: 515738 entries, 0 to 515737\n",
      "Data columns (total 17 columns):\n",
      " #   Column                                      Non-Null Count   Dtype  \n",
      "---  ------                                      --------------   -----  \n",
      " 0   Hotel_Address                               515738 non-null  object \n",
      " 1   Additional_Number_of_Scoring                515738 non-null  int64  \n",
      " 2   Review_Date                                 515738 non-null  object \n",
      " 3   Average_Score                               515738 non-null  float64\n",
      " 4   Hotel_Name                                  515738 non-null  object \n",
      " 5   Reviewer_Nationality                        515738 non-null  object \n",
      " 6   Negative_Review                             515738 non-null  object \n",
      " 7   Review_Total_Negative_Word_Counts           515738 non-null  int64  \n",
      " 8   Total_Number_of_Reviews                     515738 non-null  int64  \n",
      " 9   Positive_Review                             515738 non-null  object \n",
      " 10  Review_Total_Positive_Word_Counts           515738 non-null  int64  \n",
      " 11  Total_Number_of_Reviews_Reviewer_Has_Given  515738 non-null  int64  \n",
      " 12  Reviewer_Score                              515738 non-null  float64\n",
      " 13  Tags                                        515738 non-null  object \n",
      " 14  days_since_review                           515738 non-null  object \n",
      " 15  lat                                         512470 non-null  float64\n",
      " 16  lng                                         512470 non-null  float64\n",
      "dtypes: float64(4), int64(5), object(8)\n",
      "memory usage: 66.9+ MB\n"
     ]
    }
   ],
   "source": [
    "df.info()"
   ]
  },
  {
   "cell_type": "code",
   "execution_count": 5,
   "metadata": {},
   "outputs": [],
   "source": [
    "df.drop([\"Additional_Number_of_Scoring\",\"Review_Date\",\"Reviewer_Nationality\",\"Negative_Review\",\"Review_Total_Negative_Word_Counts\",\"Total_Number_of_Reviews\",\"Review_Total_Positive_Word_Counts\",\"Total_Number_of_Reviews_Reviewer_Has_Given\",\"days_since_review\",\"lat\",\"lng\"],axis=1,inplace=True)"
   ]
  },
  {
   "cell_type": "code",
   "execution_count": 6,
   "metadata": {},
   "outputs": [],
   "source": [
    "df.Hotel_Address = df.Hotel_Address.str.replace(\"Netherlands\",\"NL\")\n",
    "df.Hotel_Address = df.Hotel_Address.str.replace(\"United Kingdom\",\"UK\")\n",
    "df.Hotel_Address = df.Hotel_Address.str.replace(\"France\",\"FR\")\n",
    "df.Hotel_Address = df.Hotel_Address.str.replace(\"Spain\",\"ES\")\n",
    "df.Hotel_Address = df.Hotel_Address.str.replace(\"Italy\",\"IT\")\n",
    "df.Hotel_Address = df.Hotel_Address.str.replace(\"Austria\",\"AT\")\n",
    "\n",
    "df[\"countries\"] = df.Hotel_Address.apply(lambda x : x.split(\" \")[-1])"
   ]
  },
  {
   "cell_type": "code",
   "execution_count": 7,
   "metadata": {},
   "outputs": [],
   "source": [
    "df[\"Positive_Review\"]=df[\"Positive_Review\"].apply(lambda x: x.lower())"
   ]
  },
  {
   "cell_type": "code",
   "execution_count": 8,
   "metadata": {},
   "outputs": [
    {
     "name": "stderr",
     "output_type": "stream",
     "text": [
      "C:\\Users\\ROUSHAN\\AppData\\Local\\Temp\\ipykernel_10508\\3339494016.py:4: FutureWarning: Series.__getitem__ treating keys as positions is deprecated. In a future version, integer keys will always be treated as labels (consistent with DataFrame behavior). To access a value by position, use `ser.iloc[pos]`\n",
      "  column=column[0]\n"
     ]
    }
   ],
   "source": [
    "from ast import literal_eval\n",
    "\n",
    "def taglist(column):\n",
    "    column=column[0]\n",
    "    if(type(column) != list):\n",
    "        return \"\".join(literal_eval(column))\n",
    "    else:\n",
    "        return column\n",
    "\n",
    "df[\"Tags\"]=df[[\"Tags\"]].apply(taglist,axis=1)"
   ]
  },
  {
   "cell_type": "code",
   "execution_count": 9,
   "metadata": {},
   "outputs": [
    {
     "data": {
      "text/html": [
       "<div>\n",
       "<style scoped>\n",
       "    .dataframe tbody tr th:only-of-type {\n",
       "        vertical-align: middle;\n",
       "    }\n",
       "\n",
       "    .dataframe tbody tr th {\n",
       "        vertical-align: top;\n",
       "    }\n",
       "\n",
       "    .dataframe thead th {\n",
       "        text-align: right;\n",
       "    }\n",
       "</style>\n",
       "<table border=\"1\" class=\"dataframe\">\n",
       "  <thead>\n",
       "    <tr style=\"text-align: right;\">\n",
       "      <th></th>\n",
       "      <th>Hotel_Address</th>\n",
       "      <th>Average_Score</th>\n",
       "      <th>Hotel_Name</th>\n",
       "      <th>Positive_Review</th>\n",
       "      <th>Reviewer_Score</th>\n",
       "      <th>Tags</th>\n",
       "      <th>countries</th>\n",
       "    </tr>\n",
       "  </thead>\n",
       "  <tbody>\n",
       "    <tr>\n",
       "      <th>0</th>\n",
       "      <td>s Gravesandestraat 55 Oost 1092 AA Amsterdam NL</td>\n",
       "      <td>7.7</td>\n",
       "      <td>Hotel Arena</td>\n",
       "      <td>only the park outside of the hotel was beauti...</td>\n",
       "      <td>2.9</td>\n",
       "      <td>Leisure trip  Couple  Duplex Double Room  Sta...</td>\n",
       "      <td>NL</td>\n",
       "    </tr>\n",
       "    <tr>\n",
       "      <th>1</th>\n",
       "      <td>s Gravesandestraat 55 Oost 1092 AA Amsterdam NL</td>\n",
       "      <td>7.7</td>\n",
       "      <td>Hotel Arena</td>\n",
       "      <td>no real complaints the hotel was great great ...</td>\n",
       "      <td>7.5</td>\n",
       "      <td>Leisure trip  Couple  Duplex Double Room  Sta...</td>\n",
       "      <td>NL</td>\n",
       "    </tr>\n",
       "    <tr>\n",
       "      <th>2</th>\n",
       "      <td>s Gravesandestraat 55 Oost 1092 AA Amsterdam NL</td>\n",
       "      <td>7.7</td>\n",
       "      <td>Hotel Arena</td>\n",
       "      <td>location was good and staff were ok it is cut...</td>\n",
       "      <td>7.1</td>\n",
       "      <td>Leisure trip  Family with young children  Dup...</td>\n",
       "      <td>NL</td>\n",
       "    </tr>\n",
       "    <tr>\n",
       "      <th>3</th>\n",
       "      <td>s Gravesandestraat 55 Oost 1092 AA Amsterdam NL</td>\n",
       "      <td>7.7</td>\n",
       "      <td>Hotel Arena</td>\n",
       "      <td>great location in nice surroundings the bar a...</td>\n",
       "      <td>3.8</td>\n",
       "      <td>Leisure trip  Solo traveler  Duplex Double Ro...</td>\n",
       "      <td>NL</td>\n",
       "    </tr>\n",
       "    <tr>\n",
       "      <th>4</th>\n",
       "      <td>s Gravesandestraat 55 Oost 1092 AA Amsterdam NL</td>\n",
       "      <td>7.7</td>\n",
       "      <td>Hotel Arena</td>\n",
       "      <td>amazing location and building romantic setting</td>\n",
       "      <td>6.7</td>\n",
       "      <td>Leisure trip  Couple  Suite  Stayed 2 nights ...</td>\n",
       "      <td>NL</td>\n",
       "    </tr>\n",
       "  </tbody>\n",
       "</table>\n",
       "</div>"
      ],
      "text/plain": [
       "                                      Hotel_Address  Average_Score  \\\n",
       "0   s Gravesandestraat 55 Oost 1092 AA Amsterdam NL            7.7   \n",
       "1   s Gravesandestraat 55 Oost 1092 AA Amsterdam NL            7.7   \n",
       "2   s Gravesandestraat 55 Oost 1092 AA Amsterdam NL            7.7   \n",
       "3   s Gravesandestraat 55 Oost 1092 AA Amsterdam NL            7.7   \n",
       "4   s Gravesandestraat 55 Oost 1092 AA Amsterdam NL            7.7   \n",
       "\n",
       "    Hotel_Name                                    Positive_Review  \\\n",
       "0  Hotel Arena   only the park outside of the hotel was beauti...   \n",
       "1  Hotel Arena   no real complaints the hotel was great great ...   \n",
       "2  Hotel Arena   location was good and staff were ok it is cut...   \n",
       "3  Hotel Arena   great location in nice surroundings the bar a...   \n",
       "4  Hotel Arena    amazing location and building romantic setting    \n",
       "\n",
       "   Reviewer_Score                                               Tags countries  \n",
       "0             2.9   Leisure trip  Couple  Duplex Double Room  Sta...        NL  \n",
       "1             7.5   Leisure trip  Couple  Duplex Double Room  Sta...        NL  \n",
       "2             7.1   Leisure trip  Family with young children  Dup...        NL  \n",
       "3             3.8   Leisure trip  Solo traveler  Duplex Double Ro...        NL  \n",
       "4             6.7   Leisure trip  Couple  Suite  Stayed 2 nights ...        NL  "
      ]
     },
     "execution_count": 9,
     "metadata": {},
     "output_type": "execute_result"
    }
   ],
   "source": [
    "df.head()"
   ]
  },
  {
   "cell_type": "code",
   "execution_count": 10,
   "metadata": {},
   "outputs": [
    {
     "name": "stdout",
     "output_type": "stream",
     "text": [
      "{'Hotel Arena': 5, 'K K Hotel George': 3, 'Apex Temple Court Hotel': 5, 'The Park Grand London Paddington': 5, 'Monhotel Lounge SPA': 4, 'Kube Hotel Ice Bar': 5, 'The Principal London': 4, 'Park Plaza County Hall London': 4, 'One Aldwych': 5, 'Splendid Etoile': 4, 'Hotel Trianon Rive Gauche': 3, 'InterContinental London Park Lane': 5, 'Novotel Suites Paris Nord 18 me': 3, 'Grand Royale London Hyde Park': 4, 'Milestone Hotel Kensington': 3, 'Crowne Plaza London Kings Cross': 5, 'Select Hotel': 5, 'H tel De Vend me': 4, 'Pullman Paris Centre Bercy': 5, 'Gardette Park Hotel': 3, 'Hotel Panache': 3, 'H tel des Ducs D Anjou': 3, 'Hotel Scribe Paris Opera by Sofitel': 3, 'Novotel London West': 4, 'Haymarket Hotel': 4, 'Intercontinental London The O2': 4, 'H tel Juliana Paris': 4, 'Hotel L Antoine': 5, 'Belfast': 3, 'Shangri La Hotel Paris': 3, 'Mercure Paris Tour Eiffel Pont Mirabeau': 3, 'Knightsbridge Hotel': 3, 'The London EDITION': 3, 'The Cranley Hotel': 4, 'Hotel Le 10 BIS': 4, 'The Nadler Soho': 5, 'Grange St Paul s Hotel': 3, 'The Ampersand Hotel': 5, 'Covent Garden Hotel': 3, 'The Nadler Victoria': 4, 'Novotel London Tower Bridge': 3, 'Crowne Plaza Paris R publique': 4, 'Le Metropolitan a Tribute Portfolio Hotel': 3, 'Atala Champs Elys es': 4, 'H tel de Jos phine BONAPARTE': 5, 'Maison Souquet': 3, 'Hotel Tour d Auvergne Opera': 3, 'Le Senat': 4, 'Windsor Opera': 5, 'Holiday Inn Paris Montparnasse Pasteur': 4, 'H tel Keppler': 5, 'Les Plumes Hotel': 3, 'Hotel des Tuileries Relais du Silence': 5, 'Bradford Elys es Astotel': 4, 'W London Leicester Square': 4, 'The Victoria': 5, 'Pullman London St Pancras': 3, 'Crowne Plaza London Kensington': 3, 'Doubletree by Hilton London Kensington': 4, 'Ace Hotel London Shoreditch': 4, 'Staybridge Suites London Vauxhall': 5, 'The Grosvenor': 4, 'The Park Tower Knightsbridge a Luxury Collection Hotel': 5, 'Amp re': 3, 'Melia Paris Champs Elys es': 5, 'Le Parisis Paris Tour Eiffel': 5, 'Thistle Kensington Gardens': 3, 'Park Plaza Sherlock Holmes London': 3, 'Hilton Paris Opera': 5, 'The Kensington Hotel': 4, 'Holiday Inn London Stratford City': 3, 'Staybridge Suites London Stratford': 4, 'Shepherd s Bush Boutique Hotel': 4, 'My Bloomsbury': 4, 'Holiday Inn Paris Gare de Lyon Bastille': 3, 'H tel Chaplain Paris Rive Gauche': 3, 'H tel Regina Op ra Grands Boulevards': 4, '11 Cadogan Gardens': 3, 'The Wellesley Knightsbridge a Luxury Collection Hotel London': 4, 'Hotel Astor Saint Honor ': 5, 'Op ra Marigny': 4, 'H tel Diva Opera': 4, 'Le Marcel': 3, 'H tel Duo': 3, 'H tel Le Marianne': 5, 'The Rembrandt': 4, 'Hotel Eden': 3, 'H tel de la Bourdonnais': 5, 'Ashburn Hotel': 3, 'Marlin Waterloo': 4, 'Best Western Premier Marais Grands Boulevards': 4, 'Novotel London Waterloo': 5, 'The Athenaeum': 4, 'Park International Hotel': 3, 'Lansbury Heritage Hotel': 5, 'Le Dokhan s a Tribute Portfolio Hotel': 4, 'Le Relais Madeleine': 3, 'Terrass H tel Montmartre by MH': 3, 'Millennium Hotel Paris Opera': 3, 'Waldorf Madeleine': 5, 'Batty Langley s': 3, 'Best Western Mornington Hotel Hyde Park': 5, 'Arbor City': 3, 'Hotel La Lanterne': 3, 'H tel Square Louvois': 3, 'Hotel Marignan Champs Elys es': 3, 'Le Grey Hotel': 4, 'Le Pavillon des Lettres': 3, 'H tel San R gis': 4, 'Garden Elys e': 3, 'Hotel Louvre Montana': 3, 'Ambassadors Bloomsbury': 5, 'Le 123 S bastopol Astotel': 4, 'Le 123 Elysees Astotel': 5, 'The Bryson Hotel': 4, 'Best Western Mercedes Arc de Triomphe': 3, 'London Marriott Hotel Regents Park': 5, 'Hilton London Hyde Park': 5, 'Staunton Hotel B B': 3, '1K Hotel': 5, 'H tel Westminster': 5, 'L H tel': 3, 'Mercure Paris Porte d Orleans': 3, 'Maxim Op ra': 3, 'Le Marceau Bastille': 3, 'Hotel Odeon Saint Germain': 5, 'Mercure London Bloomsbury Hotel': 5, 'The Chamberlain': 4, 'Radisson Blu Edwardian Grafton': 4, 'La Villa Haussmann': 5, 'London Marriott Hotel Marble Arch': 5, 'Saint Georges Hotel': 5, 'Park Grand London Lancaster Gate': 4, 'The Henrietta Hotel': 4, 'Sofitel Paris Arc De Triomphe': 3, 'Hotel Mercure La Sorbonne Saint Germain des Pr s': 5, 'La Tremoille Paris': 3, 'Hotel Op ra Richepanse': 5, 'H tel Duc De St Simon': 4, 'Hotel Le Six': 4, 'The Bailey s Hotel London': 4, 'London Marriott Hotel Park Lane': 4, 'Best Western Premier Louvre Saint Honor ': 4, 'Hotel Indigo London Tower Hill': 3, 'Windermere Hotel': 5, 'La Villa Maillot': 3, 'H tel Madison by MH': 3, 'Mercure London Paddington Hotel': 3, 'Hilton London Paddington': 3, 'London Marriott Hotel Kensington': 3, 'Kensington House Hotel': 3, 'Charlotte Street Hotel': 4, 'The Goring': 4, 'Novotel Paris 14 Porte d Orl ans': 5, 'The Pelham Starhotels Collezione': 5, 'The Montague On The Gardens': 4, 'Ritz Paris': 4, 'Hotel Les Rives de Notre Dame': 3, 'Sofitel Paris Le Faubourg': 3, 'Bassano': 3, 'Best Western Premier Le Swann': 5, 'H tel des Academies et des Arts': 3, 'Hotel Lumen Paris Louvre': 4, 'Le Marquis Eiffel': 5, 'COQ Hotel Paris': 5, 'Mill sime H tel': 3, 'The Leonard Hotel': 3, 'DoubleTree by Hilton London Hyde Park': 5, 'The Ritz London': 3, 'M by Montcalm Shoreditch London Tech City': 4, 'Legend Saint Germain by Elegancia': 3, 'Clayton Crown Hotel London': 5, 'Au Manoir Saint Germain': 5, 'St Paul s Hotel': 3, 'Best Western S vres Montparnasse': 3, 'The Bloomsbury Hotel': 3, 'Nolinski Paris': 5, 'Le Tourville Eiffel': 3, 'Paris Marriott Opera Ambassador Hotel': 5, 'Hotel Indigo London Paddington': 3, 'Idol Hotel': 3, 'H tel California Champs Elys es': 5, 'Hotel de Seze': 4, 'Number Sixteen': 5, 'Hotel Xenia Autograph Collection': 3, 'H tel Hor': 3, 'Britannia International Hotel Canary Wharf': 4, 'Best Western Op ra Batignolles': 4, 'H tel de Banville': 5, 'Villa Eugenie': 3, 'Hilton London Euston': 4, 'Egerton House': 4, 'Millennium Hotel London Knightsbridge': 4, 'H tel Raphael': 3, 'Le 7 Eiffel Hotel': 5, 'Paris Marriott Rive Gauche Hotel': 4, 'Hotel La Place': 4, 'Hotel Le Pera': 4, 'H tel Bedford': 3, 'Drawing Hotel': 3, 'Novotel Paris Centre Gare Montparnasse': 3, 'D clic Hotel': 3, 'Villa d Estr es': 3, 'Bulgari Hotel London': 5, 'Novotel London Greenwich': 5, 'Park Avenue Baker Street': 3, 'Hotel Plaza Elys es': 5, 'Hotel Champs Elys es Friedland by Happyculture': 3, 'Malmaison London': 4, 'The Park City Grand Plaza Kensington Hotel': 5, 'Park Plaza London Riverbank': 4, 'Pullman Paris Tour Eiffel': 3, 'Danubius Hotel Regents Park': 4, 'Hotel Bachaumont': 5, 'Franklin Roosevelt': 5, 'H tel Horset Op ra Best Western Premier Collection': 3, 'Best Western Paris Gare Saint Lazare': 3, 'Splendide Royal Paris': 4, 'The Rockwell': 4, 'The LaLit London': 5, 'Mercure Paris Alesia': 4, 'Courthouse Hotel London': 3, 'Best Western The Boltons Hotel London Kensington': 3, 'Radisson Blu Edwardian Sussex': 3, 'Hotel The Peninsula Paris': 4, 'Le Narcisse Blanc Spa': 4, 'The Pillar Hotel': 3, 'Crowne Plaza London The City': 3, 'H tel Les Dames du Panth on': 4, 'H tel Victor Hugo Paris Kl ber': 5, 'Grand Hotel Saint Michel': 5, 'Hotel Maison Ath n e': 5, 'Relais Du Louvre': 3, 'Pullman Paris Montparnasse': 5, 'Best Western Ducs de Bourgogne': 4, 'Best Western Premier Op ra Opal': 5, 'Amarante Champs Elys es': 5, 'The Gore Hotel Starhotels Collezione': 5, 'The Hoxton Holborn': 5, 'Mercure London Kensington Hotel': 5, 'Royal Garden Hotel': 3, 'Boundary Rooms Suites': 4, 'H tel Ad le Jules': 4, 'Grange White Hall Hotel': 4, 'Hilton London Bankside': 5, 'DoubleTree by Hilton London Ealing': 5, 'Molitor Paris MGallery by Sofitel': 4, 'First Hotel Paris Tour Eiffel': 5, 'DoubleTree by Hilton London Victoria': 3, 'St Ermin s Hotel Autograph Collection': 5, 'Montagu Place Hotel': 4, 'H tel Regina': 3, 'Mercure Paris Gare De Lyon TGV': 3, 'Villa Montparnasse': 3, 'H tel des Champs Elys es': 4, 'Lyric H tel Paris': 4, 'Hotel Design Secret de Paris': 3, 'Hotel Dupond Smith': 4, 'Okko Hotels Paris Porte De Versailles': 4, 'La Villa Royale': 5, 'Hotel Indigo Paris Opera': 4, 'Villa Opera Drouot': 5, 'Novotel Paris Gare De Lyon': 3, 'H tel Belloy Saint Germain By Happyculture': 4, 'Hotel Louis 2': 5, 'InterContinental Paris Le Grand': 3, 'The Trafalgar Hilton': 4, 'Park Lane Mews Hotel': 4, 'Old Ship Inn Hackney': 5, 'The Drayton Court Hotel': 4, 'The Montcalm Marble Arch': 5, 'The Colonnade': 3, 'The Royal Horseguards': 3, 'Grange Fitzrovia Hotel': 4, 'H tel Le M': 5, 'The Hari London': 5, 'citizenM London Bankside': 5, 'Radisson Blu Edwardian Mercer Street': 3, 'Twenty Nevern Square Hotel': 4, 'The Abbey Court Notting Hill': 5, 'Seven Hotel': 3, 'Platine Hotel Spa': 5, 'Mercure Paris Gare Montparnasse': 4, 'Mercure Paris Notre Dame Saint Germain des Pr s': 4, 'Mercure Paris Centre Tour Eiffel': 4, 'Banke H tel': 4, 'Mondrian London': 4, 'Karma Sanctum Soho Hotel': 5, 'NH London Kensington': 5, 'Saint James Albany Paris Hotel Spa': 5, 'Mercure Paris Montparnasse Raspail': 5, 'Golden Tulip Bercy Gare de Lyon 209': 4, 'Montfleuri': 5, 'Simply Rooms Suites': 4, 'Mercure Paris Pigalle Sacre Coeur': 4, 'The Academy': 5, 'Le Meridien Piccadilly': 4, 'Mercure Paris Terminus Nord': 4, 'H tel F licien by Elegancia': 4, 'Le Lavoisier': 5, 'H tel Moli re': 3, 'Vice Versa': 5, 'The Kings Head Hotel': 4, 'H tel Etoile Saint Honor by Happyculture': 5, 'Hotel Le petit Paris': 3, 'Mercure Paris 19 Philharmonie La Villette': 5, 'Royal Garden Champs Elysees': 5, 'H tel Brighton Esprit de France': 4, 'H tel Paris Bastille Boutet MGallery by Sofitel': 3, 'Montcalm Royal London House City of London': 3, 'Conrad London St James': 3, 'L Edmond H tel': 5, 'Novotel Suites Paris Montreuil Vincennes': 5, 'London Marriott Hotel West India Quay': 3, 'London Hilton on Park Lane': 3, 'Radisson Blu Portman Hotel London': 5, 'H tel France d Antin Op ra': 4, 'Hotel Stendhal Place Vend me Paris MGallery by Sofitel': 3, 'H tel De Buci by MH': 4, 'Hotel Parc Saint Severin Esprit de France': 5, 'Hotel Chavanel': 4, 'The Portobello Hotel': 5, 'Royal Saint Honore': 3, 'Landmark London': 4, 'Hilton London Metropole': 4, 'Best Western Seraphine Kensington Olympia': 5, 'Portobello House': 5, 'Le Meurice': 5, 'Maison Albar Hotel Paris C line': 5, 'Henry VIII': 4, 'Goodenough Club': 3, 'Holiday Inn Paris Montmartre': 4, 'Hotel Pulitzer Paris': 5, 'Hotel Vignon': 5, 'London Suites': 3, 'H tel Aiglon Esprit de France': 4, 'Sansi Diputacio': 5, 'Park Plaza Victoria London': 4, 'Grange Beauchamp Hotel': 5, 'The Franklin Hotel Starhotels Collezione': 4, 'Club Quarters Hotel St Paul s': 5, 'Hotel Elys es Bassano': 4, 'Hotel Opera Cadet': 4, 'Phileas Hotel': 3, 'Holiday Inn Paris Elys es': 3, 'H tel Beauchamps': 4, 'Best Western Nouvel Orl ans Montparnasse': 5, 'Hotel Plaza Athenee Paris': 4, 'Mercure Paris Place d Italie': 4, 'The Nadler Kensington': 4, 'H tel Da Vinci Spa': 5, 'XO Hotel': 5, 'H tel Vernet': 5, 'Mandarin Oriental Paris': 4, 'Rosewood London': 3, 'Novotel Paris Vaugirard Montparnasse': 4, 'Mayflower Hotel Apartments': 3, 'Caesar Hotel': 4, 'Hotel Xanadu': 4, 'Draycott Hotel': 4, 'DoubleTree by Hilton London Docklands Riverside': 5, 'Bentley London': 4, 'Mercure Paris Arc de Triomphe Etoile': 3, 'Park Grand Paddington Court': 4, 'The One Barcelona GL': 3, 'The Zetter Townhouse Marylebone': 5, 'Forest Hill Paris la Villette': 4, 'The Levin Hotel': 5, 'The Tophams Hotel': 3, 'Le Pavillon de la Reine Spa': 3, 'Hidden Hotel by Elegancia': 3, 'Le Roch Hotel Spa': 5, 'H10 London Waterloo': 3, 'San Domenico House': 5, 'Bloomsbury Palace Hotel': 3, 'Hotel du Petit Moulin': 3, 'Hotel Atmospheres': 5, 'H tel La Comtesse by Elegancia': 5, 'Hotel Astra Opera Astotel': 4, 'Hotel La Villa Saint Germain Des Pr s': 3, 'Grand Pigalle Hotel': 5, 'Innkeeper s Lodge London Greenwich': 4, 'Morgan Mees': 5, 'Hotel Duminy Vendome': 5, 'Maison Albar H tel Paris Champs Elys es ex Mac Mahon ': 5, 'Holiday Inn London Mayfair': 5, 'H tel Recamier': 5, 'TRYP Paris Op ra': 5, 'Royal Saint Michel': 5, 'Paddington Court Executive Rooms': 5, 'Novotel London Paddington': 5, 'Hyatt Regency Paris Etoile': 3, 'Relais Saint Jacques': 4, 'Hotel Cambon': 3, 'Mercure Paris Montmartre Sacr Coeur': 5, 'Relais Christine': 3, 'Les Matins de Paris Spa': 3, 'Hotel Square': 4, 'H tel Bourgogne Montana by MH': 3, 'The Westin Paris Vend me': 5, 'Hotel Montalembert': 3, 'H tel Mathis Elys es': 3, 'Le Saint Hotel Paris': 4, 'Hotel Le Squara': 4, 'L Hotel Pergol se Paris': 3, 'H tel Mayfair Paris': 3, 'Best Western Plus de Neuville Arc de Triomphe': 4, 'South Place Hotel': 5, 'The Royal Park Hotel': 3, 'Holiday Inn Paris Op ra Grands Boulevards': 4, 'Henley House Hotel': 5, 'Holiday Inn London Camden Lock': 3, 'DoubleTree by Hilton London Westminster': 5, 'Blakemore Hyde Park': 3, 'Hyatt Regency London The Churchill': 5, 'Rathbone': 4, 'Le Belmont Champs Elys es': 3, 'Duret': 5, 'H tel Elysees Mermoz': 3, 'Majestic Hotel Spa': 5, 'BoB Hotel by Elegancia': 5, 'Comfort Inn Suites Kings Cross St Pancras': 3, 'The Queens Gate Hotel': 4, 'Grange Langham Court Hotel': 3, 'Radisson Blu Edwardian Hampshire': 3, 'Four Seasons Hotel George V Paris': 3, 'The Marble Arch London': 5, 'H tel Fabric': 5, 'H tel du Minist re': 4, 'Shangri La Hotel at The Shard London': 3, 'Hotel Les Bulles De Paris': 4, 'Acad mie H tel Saint Germain': 3, 'Plaza Tour Eiffel': 4, 'Park Grand London Kensington': 3, 'Rocco Forte Brown s Hotel': 3, 'Royal Hotel Champs Elys es': 4, 'Best Western Allegro Nation': 3, 'Prince de Galles a Luxury Collection hotel Paris': 4, 'The Beaufort': 5, 'H tel La Parizienne by Elegancia': 4, 'Madeleine Plaza': 5, 'Blakes Hotel': 4, 'Castille Paris Starhotels Collezione': 4, 'H tel D Aubusson': 5, 'Hotel Oscar': 4, 'Best Western Bretagne Montparnasse': 3, 'The Westbridge Hotel': 3, 'Courthouse Hotel Shoreditch': 5, 'ME London by Melia': 4, 'Grange Clarendon Hotel': 5, 'Hotel Indigo London Kensington': 3, 'Novotel Paris 17': 4, 'Rafayel Hotel Spa': 5, 'Norfolk Towers Paddington': 5, 'Artus Hotel by MH': 3, 'Best Western Premier Kapital Op ra': 5, 'Timhotel Op ra Blanche Fontaine': 5, 'H tel Amastan Paris': 3, 'H tel Gustave': 5, 'Best Western Maitrise Hotel Edgware Road': 4, 'Georgian House Hotel': 3, 'Best Western Tour Eiffel Invalides': 5, 'The Chesterfield Mayfair': 3, 'My Chelsea': 3, 'Eiffel Trocad ro': 3, 'Hotel Saint Petersbourg Opera': 5, 'H tel Champs lys es Plaza': 4, 'Melia Paris Tour Eiffel': 4, 'Timhotel Op ra Grands Magasins': 5, 'Dukes Hotel': 4, 'Radisson Blu Edwardian Berkshire': 3, 'Pestana Chelsea Bridge Hotel Spa': 4, 'Arbor Hyde Park': 5, 'Mercure Paris Porte De Versailles Expo': 3, 'Great St Helen Hotel': 4, 'Hotel Whistler': 5, 'Hotel Georgette': 3, 'Westside Arc de Triomphe Hotel': 4, 'Etoile Saint Ferdinand': 4, 'H tel Saint Marc': 5, 'United Lodge Hotel and Apartments': 5, 'H tel Le Walt': 5, 'H tel Le Royal Monceau Raffles Paris': 3, 'Eccleston Square Hotel': 3, 'Nottingham Place Hotel': 4, 'Hotel Claridge Paris': 3, 'Strand Palace Hotel': 3, 'H tel L Echiquier Op ra Paris MGallery by Sofitel': 4, 'H tel De Castiglione': 4, 'Hilton London Olympia': 5, 'Grange Buckingham Hotel': 4, 'The Cleveland': 3, 'Dorset Square Hotel': 3, 'Edouard 7 Paris Op ra': 5, 'Renaissance Paris Arc de Triomphe Hotel': 4, 'Rubens At The Palace': 5, 'every hotel Piccadilly': 5, 'Millennium Gloucester Hotel London': 5, 'Novotel Suites Paris Expo Porte de Versailles': 4, 'K K H tel Cayr Saint Germain des Pr s': 3, 'Fielding Hotel': 3, 'DoubleTree by Hilton Hotel London Marble Arch': 5, 'Holiday Inn London West': 3, 'The Soho Hotel': 3, 'Le Grand H tel de Normandie': 4, 'Monsieur Cadet Hotel Spa Ex Meyerhold Spa ': 3, 'H tel de La Tamise Esprit de France': 3, 'Buddha Bar Hotel Paris': 4, 'Le A': 4, 'Holiday Inn Paris Notre Dame': 5, 'Mercure Paris Opera Garnier': 4, 'Maison Albar Hotel Paris Op ra Diamond': 4, 'Grand H tel Du Palais Royal': 3, 'Best Western Aulivia Op ra': 5, 'Renaissance Paris Vendome Hotel': 5, 'Hotel Park Lane Paris': 4, 'Little Palace Hotel': 3, 'Napoleon Paris': 3, 'Andaz London Liverpool Street': 4, 'Novotel London Canary Wharf': 3, 'H tel de Lille': 4, 'H tel Concorde Montparnasse': 5, 'Suites H tel Helzear Montparnasse': 3, 'Renaissance Paris Republique Hotel Spa': 4, 'citizenM Tower of London': 4, 'Chiswick Rooms': 3, 'Claridge s': 3, 'La Suite West Hyde Park': 3, 'St James Court A Taj Hotel London': 4, 'Elys es R gencia': 4, 'H tel De Sers Champs Elys es Paris': 5, 'Hotel le Lapin Blanc': 3, '41': 3, 'Shaftesbury Suites London Marble Arch': 3, 'Grange Strathmore Hotel': 5, 'H tel R de Paris Boutique Hotel': 5, 'Villa Panth on': 5, 'Trinit Haussmann': 5, 'The RE London Shoreditch': 4, 'London City Suites': 5, 'H tel Crayon Rouge by Elegancia': 5, 'Mercure Paris Opera Grands Boulevards': 5, 'St George s Hotel Wembley': 3, 'Hotel Le Saint Gregoire': 5, 'Le Mathurin Hotel Spa': 5, 'H tel Saint Paul Rive Gauche': 3, 'The Justin James Hotel': 4, 'Millennium Hotel London Mayfair': 5, 'H tel de Varenne': 3, 'A La Villa Madame': 4, 'The Curtain': 4, '45 Park Lane Dorchester Collection': 3, 'Grange Tower Bridge Hotel': 4, 'Le Tsuba Hotel': 4, 'St Martins Lane A Morgans Original': 3, 'H tel Barri re Le Fouquet s': 5, 'Novotel London Blackfriars': 4, 'Hotel Villa Lafayette Paris IX': 5, 'Canary Riverside Plaza Hotel': 3, 'The Marylebone Hotel': 4, 'L Empire Paris': 5, 'The Zetter Townhouse Clerkenwell': 4, 'The Whitechapel': 3, 'Suites H tel Helzear Champs Elys es': 3, 'St George Hotel': 5, 'Best Western Premier Op ra Faubourg Ex Hotel Jules ': 4, 'Pershing Hall': 3, 'The Premier Notting Hill': 3, 'H tel Pont Royal': 4, 'Le G n ral H tel': 4, 'H tel Th r se': 3, 'Best Western Premier Trocadero La Tour': 5, 'Holiday Inn London Whitechapel': 4, 'Washington Mayfair Hotel': 4, 'Radisson Blu Edwardian New Providence Wharf': 3, 'Hilton London Tower Bridge': 5, 'Novotel London Wembley': 5, 'Le Relais M dicis': 4, 'Les Jardins De La Villa Spa': 5, 'Warwick Paris Former Warwick Champs Elysees ': 3, 'Park Hyatt Paris Vendome': 4, 'My Home In Paris': 4, 'Mercure Paris Op ra Faubourg Montmartre': 3, 'Best Western Plus Elys e Secret': 5, 'Villa Beaumarchais': 4, 'H tel Mansart Esprit de France': 3, 'Holiday Inn Paris Gare de l Est': 4, 'Le Cinq Codet': 4, 'La Maison Favart': 3, 'Le Pradey': 3, 'Threadneedles Autograph Collection': 4, 'Sanderson A Morgans Hotel': 5, 'The Arch London': 5, 'Commodore Hotel': 5, 'Golden Tulip Washington Opera': 5, 'Residence Henri IV': 3, 'Hotel du Collectionneur Arc de Triomphe': 4, 'The Westbourne Hyde Park': 5, 'Hotel Le Mareuil': 5, 'Mercure Paris Champs Elys es': 5, 'Best Western Le 18 Paris': 3, 'The Lodge Hotel Putney': 3, 'Shaftesbury Hyde Park International': 3, 'The Montcalm At Brewery London City': 4, 'H tel Powers': 5, 'Villa Lut ce Port Royal': 3, 'Oceania Paris Porte De Versailles': 3, 'BEST WESTERN Maitrise Hotel Maida Vale': 3, 'Novotel London City South': 4, 'The Dorchester Dorchester Collection': 4, 'Mercure Paris Bastille Marais': 3, 'Hilton London Angel Islington': 4, 'Fifty Four Boutique Hotel': 3, 'Chateau Frontenac': 3, 'H tel Du Jeu De Paume': 5, 'The Sumner Hotel': 3, 'W12 Rooms': 4, 'Renaissance Paris Le Parc Trocadero Hotel': 4, 'Shaftesbury Premier London Paddington': 4, 'Hotel Carlton s Montmartre': 4, 'Hotel Monge': 3, 'Mimi s Hotel Soho': 4, 'Victoires Opera': 4, 'Holiday Inn London Oxford Circus': 3, 'Dorsett Shepherds Bush': 4, 'New Linden Hotel': 3, 'Le Burgundy Paris': 3, 'Hotel Sezz Paris': 4, 'Hotel Montaigne': 5, 'Hotel Royal Elys es': 3, 'Mercure Paris Bercy Biblioth que': 4, 'Hazlitt s': 5, 'Park Plaza London Waterloo': 4, 'citizenM London Shoreditch': 5, 'H tel Balzac': 3, 'Victoria Palace Hotel': 4, 'Hotel Eug ne en Ville': 5, 'Newhotel Roblin': 4, 'Le Relais Montmartre': 3, 'Amarante Beau Manoir': 3, 'Hotel Maison FL': 4, 'Balmoral Champs Elys es': 5, 'The Chess Hotel': 4, 'AC Hotel Paris Porte Maillot by Marriott': 5, 'B Montmartre': 4, 'H tel Regent s Garden': 5, 'Mercure Paris 15 Porte de Versailles': 5, 'Hotel Le Placide Saint Germain Des Pr s': 3, 'Hotel VIU Milan': 5, 'Sofitel London St James': 5, 'Baglioni Hotel London The Leading Hotels of the World': 5, 'DoubleTree by Hilton London Islington': 4, 'Nell Hotel Suites': 5, 'Rydges Kensington Hotel': 5, 'Club Quarters Hotel Lincoln s Inn Fields': 3, 'Novotel Paris Centre Tour Eiffel': 3, 'Best Western Plus 61 Paris Nation Hotel': 5, 'Hotel Monsieur': 4, 'Hotel Saint Dominique': 5, 'Clayton Hotel Chiswick': 5, 'Park Plaza London Park Royal': 5, 'Hotel Malte Astotel': 3, 'Best Western Palm Hotel': 4, 'InterContinental Paris Avenue Marceau': 4, 'Mercure Tour Eiffel Grenelle': 5, 'Mercure Paris Bastille Saint Antoine': 4, 'Boutique H tel Konfidentiel': 3, 'The Piccadilly London West End': 3, 'R Kipling by Happyculture': 3, 'Hotel Des Saints Peres Esprit de France': 4, 'Best Western Hotel Montmartre Sacr Coeur': 5, 'Kingsway Hall Hotel': 5, 'Mandarin Oriental Hyde Park London': 5, 'H tel Jos phine by Happyculture': 5, 'Radisson Blu Edwardian Vanderbilt': 5, 'Hotel Le Chat Noir': 5, 'Hotel Cafe Royal': 4, 'Mercure Vaugirard Paris Porte De Versailles': 3, 'Grange Rochester Hotel': 5, 'Gainsborough Hotel': 5, 'H tel Bel Ami': 4, 'St James Hotel Club Mayfair': 3, 'Apex London Wall Hotel': 5, 'Seraphine Kensington Gardens Hotel': 3, 'Hotel de Nell': 5, '9Hotel Republique': 5, 'Goralska R sidences H tel Paris Bastille': 3, 'Club Quarters Hotel Gracechurch': 3, 'Grange Blooms Hotel': 4, 'DoubleTree by Hilton Hotel London Tower of London': 4, 'H tel Baume': 4, 'Hotel West End': 3, 'Arioso': 5, 'H tel Lancaster Paris Champs Elys es': 4, 'Melia Paris Notre Dame': 4, 'Hotel Mademoiselle': 4, 'Hotel Les Bains Paris': 4, 'Hotel Ares Eiffel': 4, 'Francois 1er': 3, 'H tel Montmartre Mon Amour': 5, 'Hotel Monceau Wagram': 5, 'Novotel London Excel': 4, 'Paris Marriott Champs Elysees Hotel': 4, 'Mercure London Bridge': 5, 'H tel Exquis by Elegancia': 4, 'Grange Wellington Hotel': 4, 'Les Jardins Du Marais': 5, 'Hotel Cavendish': 3, 'Park Grand London Hyde Park': 3, 'Shaftesbury Metropolis London Hyde Park': 5, 'Radisson Blu Champs Elys es Paris': 3, 'Hotel Eiffel Blomet': 3, 'Holiday Inn Paris Gare Montparnasse': 3, 'H tel Thoumieux': 5, 'The Exhibitionist Hotel': 5, 'Auteuil Tour Eiffel': 3, 'Ten Manchester Street Hotel': 3, 'Mercure London Hyde Park': 5, 'London Bridge Hotel': 3, 'Derby Alma': 5, 'The Beaumont Hotel': 5, 'Mercure Paris Gobelins Place d Italie': 5, 'H tel Original Paris': 4, 'The Grand at Trafalgar Square': 4, 'Club Quarters Hotel Trafalgar Square': 4, 'The Laslett': 3, 'Novotel Paris Les Halles': 5, 'Melia Paris Vendome': 4, 'Chambiges Elys es': 4, 'MARQUIS Faubourg St Honor Relais Ch teaux': 4, 'H tel Le Bellechasse Saint Germain': 5, 'Hotel Verneuil Saint Germain': 5, 'Hotel Daniel Paris': 3, 'Residence Du Roy': 3, 'La Maison Champs Elys es': 5, 'H tel Arvor Saint Georges': 4, 'The Belgrave Hotel': 5, 'TheWesley': 5, 'Le M ridien Etoile': 5, 'The Hoxton Shoreditch': 3, 'The Cavendish London': 4, 'Avo Hotel': 3, 'Hotel 82 London': 3, 'La Clef Tour Eiffel': 5, 'Best Western Plus Seraphine Hammersmith Hotel': 3, 'La Chambre du Marais': 3, 'Novotel Paris Centre Bercy': 5, 'The Zetter Hotel': 5, 'Grosvenor House Suites by Jumeirah Living': 5, 'Hotel OFF Paris Seine': 3, 'Snob Hotel by Elegancia': 4, 'Sofitel Paris Baltimore Tour Eiffel': 3, '88 Studios': 4, 'Adria Boutique Hotel': 4, 'Best Western Premier Faubourg 88': 5, 'Hotel De Vigny': 3, 'Sydney House Chelsea': 5, 'Radisson Blu Edwardian Bloomsbury Street': 3, 'H tel Le Relais Saint Germain': 5, 'Hotel Moonlight': 3, 'Villa Alessandra': 3, 'Ibis Styles Paris Gare Saint Lazare': 4, 'Golden Tulip Opera de Noailles': 3, 'Best Western Premier Op ra Li ge': 3, 'H tel Cristal Champs Elys es': 5, 'Best Western Le Jardin de Cluny': 3, 'Le Pigalle Hotel': 5, 'Relais H tel du Vieux Paris': 4, 'Victoire Germain': 5, 'Le Littr ': 4, 'Hotel Le Sainte Beuve': 5, 'Hotel Villa Saxe Eiffel': 5, 'Thistle Hyde Park': 5, 'Holiday Inn Paris Saint Germain des Pr s': 5, 'Hotel Spa La Belle Juliette': 5, 'Rochester Champs Elysees': 5, 'DoubleTree by Hilton London West End': 5, 'Hotel d Orsay Esprit de France': 4, 'Mercure Paris Opera Louvre': 5, 'La Villa des Ternes': 5, 'Holiday Inn London Kensington Forum': 5, 'Radisson Blu Edwardian Kenilworth': 5, 'H tel Monna Lisa Champs Elys es': 4, 'H tel Waldorf Trocad ro': 3, 'Best Western Amiral Hotel': 4, 'Hotel Les Th tres': 5, 'Mercure Paris 17 me Saint Lazare Monceau': 5, 'Melia White House Hotel': 4, 'Sir Albert Hotel': 4, 'The Waldorf Hilton': 5, 'Corendon Vitality Hotel Amsterdam': 5, 'Hotel Bellevue Wien': 5, 'Maison Borella': 4, 'Hotel Am Konzerthaus Vienna MGallery by Sofitel': 4, 'Park Hyatt Vienna': 4, 'Hilton Vienna': 3, 'Catalonia Port': 3, 'Hampshire Hotel Rembrandt Square Amsterdam': 4, 'Eurostars Angli': 5, 'Pillows Anna van den Vondel Amsterdam': 4, 'Schlosshotel R mischer Kaiser': 4, 'Hotel Mailberger Hof': 4, 'Best Western Delphi Hotel': 4, 'Apollofirst Boutique Hotel': 5, 'Hilton Amsterdam': 3, 'Apollo Hotel Amsterdam': 4, 'Catalonia Catedral': 3, 'Element Amsterdam': 4, 'Axel Hotel Barcelona Urban Spa Adults Only': 4, 'Cram': 3, 'Urban Lodge Hotel': 5, 'Novotel Wien City': 4, 'The Levante Parliament A Design Hotel': 5, 'Room Mate Gerard': 5, 'H10 Marina Barcelona': 4, 'Barcelona Princess': 5, 'Novotel Barcelona City': 3, 'The Gates Diagonal Barcelona': 5, 'AC Hotel Diagonal L Illa a Marriott Lifestyle Hotel': 4, 'Wilson Boutique Hotel': 4, 'NH Hesperia Barcelona Presidente': 3, 'Hilton Barcelona': 5, 'Vincci Mae': 4, 'Fairmont Rey Juan Carlos I': 5, 'Pullman Barcelona Skipper': 3, 'Hotel Ciutadella Barcelona': 3, 'Catalonia Atenas': 5, 'Tryp Barcelona Apolo Hotel': 3, 'Sansi Pedralbes': 3, 'Crowne Plaza Barcelona Fira Center': 5, 'Gran Hotel Torre Catalunya': 3, 'H10 Itaca': 3, 'Hotel Abbot': 4, 'Sercotel Amister Art Hotel Barcelona': 3, 'Melia Barcelona Sarri ': 5, 'ABaC Restaurant Hotel Barcelona GL Monumento': 3, 'Col n Hotel Barcelona': 5, 'Hotel SB Icaria Barcelona': 5, 'Hotel Barcelona Universal': 5, 'Aparthotel Arai 4 Superior': 4, 'NH Collection Barcelona Podium': 3, 'Hotel Ronda Lesseps': 4, 'Hotel Barcelona Center': 5, 'Olivia Balmes Hotel': 4, 'Catalonia Diagonal Centro': 3, 'The Capital': 5, 'Vienna Sporthotel': 5, 'Megaro Hotel': 4, 'Hotel De Hallen': 4, 'AC Hotel Victoria Suites a Marriott Lifestyle Hotel': 4, 'Catalonia Plaza Catalunya': 5, 'Hotel Regina': 3, 'Hotel Pulitzer': 4, 'Hotel Alimara': 5, 'Thistle Holborn The Kingsley': 4, 'Hotel Boltzmann': 5, 'The Westbury A Luxury Collection Hotel Mayfair London': 4, 'Petit Palace Boqueria Garden': 4, 'Mercer House B ria BCN': 4, 'Hotel ViennArt am Museumsquartier': 3, 'Crowne Plaza London Battersea': 5, 'Amba Hotel Marble Arch': 5, 'Taj 51 Buckingham Gate Suites and Residences': 5, 'Hotel Sans Souci Wien': 4, 'Catalonia La Pedrera': 5, 'Ohla Eixample': 3, 'Jumeirah Carlton Tower': 3, 'Hotel Villa Emilia': 5, 'TWO Hotel Barcelona by Axel 4 Sup Adults Only': 3, 'Hotel Best Western PLUS Alfa Aeropuerto': 3, 'AC Hotel Irla a Marriott Lifestyle Hotel': 5, 'Hotel Barcelona Catedral': 5, 'Arenas Atiram Hotels': 5, 'Holiday Inn London Regent s Park': 3, 'Senator Barcelona Spa Hotel': 4, 'Thistle Euston': 4, 'The Connaught': 4, 'Room Mate Anna': 4, 'Gran Hotel La Florida': 4, 'Ayre Hotel Caspe': 3, 'Doubletree By Hilton London Greenwich': 5, 'Chasse Hotel': 4, 'The Chelsea Harbour Hotel': 5, 'Palais Coburg Residenz': 5, 'Zenit Borrell': 4, 'U232 Hotel': 3, 'Eurostars Monumental': 4, 'Pestana Arena Barcelona': 4, 'Grange City Hotel': 4, 'Holiday Inn London Bloomsbury': 4, 'The Mirror Barcelona': 4, 'Worldhotel Cristoforo Colombo': 5, 'IH Hotels Milano Puccini': 5, 'Best Western Hotel City': 5, 'Ch teau Monfort Relais Ch teaux': 5, 'Palazzo Parigi Hotel Grand Spa Milano': 5, 'Hotel Lloyd': 5, 'Hotel Romana Residence': 4, 'Hotel Crivi s': 5, 'Hotel Galileo': 3, 'Carlyle Brera Hotel': 3, 'Boscolo Milano Autograph Collection': 3, 'Mokinba Hotels King': 3, 'Qualys Hotel Nasco': 5, 'Enterprise Hotel Design Boutique': 3, 'Tryp Barcelona Condal Mar Hotel': 4, 'NH Collection Barcelona Constanza': 5, 'NH Collection Amsterdam Grand Hotel Krasnapolsky': 5, 'Park Plaza Victoria Amsterdam': 5, 'Hotel Amsterdam De Roode Leeuw': 3, 'Swiss tel Amsterdam': 4, 'City Rooms': 5, 'Holiday Inn Amsterdam': 5, 'Jaz Amsterdam': 3, 'Best Western Premier Hotel Couture': 3, 'Mercer Hotel Barcelona': 3, 'Mercure Vienna First': 5, 'Melia Barcelona Sky 4 Sup': 5, 'Bilderberg Garden Hotel': 4, 'Ako Suites Hotel': 3, 'Eurostars Cristal Palace': 3, 'HCC St Moritz': 3, 'Petit Palace Museum': 3, 'NH Amsterdam Noord': 4, 'Primero Primera': 5, 'Hotel 4 Barcelona': 4, 'Melia Vienna': 5, 'Graben Hotel': 5, 'Medinaceli': 4, 'Grand Hotel Downtown': 5, 'Amadi Park Hotel': 4, 'Hotel Casa Camper': 5, 'Holiday Inn London Wembley': 4, 'Austria Trend Hotel Lassalle Wien': 5, 'H10 Art Gallery 4 Sup': 4, 'Hotel Granados 83': 4, 'Best Western PLUS Epping Forest': 4, 'NH Hesperia Barcelona del Mar': 3, 'Novotel Amsterdam City': 3, 'St Pancras Renaissance Hotel London': 4, 'DoubleTree By Hilton London Excel': 3, 'The Guesthouse Vienna': 4, 'Hotel Johann Strauss': 3, 'Hotel Mercure Wien Westbahnhof': 5, 'Savoy Hotel Amsterdam': 4, 'Hotel Okura Amsterdam': 3, 'Hotel Eitlj rg': 4, 'Hotel V Fizeaustraat': 5, 'Mercure Wien Zentrum': 3, 'Best Western Premier Kaiserhof Wien': 3, 'FourSide Hotel Suites Vienna': 3, 'Millennium Copthorne Hotels at Chelsea Football Club': 3, 'IH Hotels Milano Ambasciatori': 5, 'Crowne Plaza Amsterdam South': 3, 'Durrants Hotel': 3, 'Mercure Secession Wien': 5, 'Hotel Well and Come': 5, 'City Hotel Deutschmeister': 5, 'Ayre Hotel Gran V a': 5, 'Sunotel Central': 5, 'Silken Gran Hotel Havana': 4, 'Cotton House Hotel Autograph Collection': 4, 'Hotel Vueling Bcn by HC': 4, 'H10 Casanova': 4, 'Avenida Palace': 5, 'Acta Atrium Palace': 3, 'Hotel Indigo Barcelona Plaza Catalunya': 5, 'Catalonia Passeig de Gr cia 4 Sup': 5, 'Hotel Palace GL': 4, 'Grupotel Gran Via 678': 5, 'Hotel Casa Bonay': 4, 'The Cumberland A Guoman Hotel': 3, 'FourSide Hotel Vienna City Center': 3, 'Hotel Vienna': 3, 'London Marriott Hotel Grosvenor Square': 3, 'Rainers Hotel Vienna': 4, 'Pol Grace Hotel': 4, 'Austria Trend Hotel Bosei Wien': 3, 'Pertschy Palais Hotel': 5, 'Alma Boutique Hotel': 5, 'Flemings Mayfair': 3, 'Hilton London Green Park': 5, 'COMO The Halkin': 5, 'Four Seasons Hotel London at Park Lane': 5, 'Hilton Vienna Danube Waterfront': 5, 'Hotel 55': 4, 'The Harmonie Vienna': 4, 'Hotel Park Villa': 5, 'WestCord Fashion Hotel Amsterdam': 5, 'The Hoxton Amsterdam': 3, 'Ambassade Hotel': 4, 'Banks Mansion All Inclusive Hotel': 3, 'Waldorf Astoria Amsterdam': 5, 'Senator Hotel Vienna': 3, 'Hotel J ger': 3, 'Steigenberger Hotel Herrenhof': 4, 'Radisson Blu Style Hotel Vienna': 4, 'Hilton Garden Inn Vienna South': 3, 'Austria Trend Parkhotel Sch nbrunn Wien': 3, 'Club Hotel Cortina': 5, 'Arion Cityhotel Vienna und Appartements': 3, 'NH Amsterdam Museum Quarter': 3, 'Gartenhotel Altmannsdorf Hotel 1': 5, 'Hilton London Kensington Hotel': 4, 'Hotel Mercure Wien City': 5, 'Courtyard by Marriott Amsterdam Arena Atlas': 5, 'Holiday Inn Amsterdam Arena Towers': 4, 'The Lanesborough': 5, 'Amadi Panorama Hotel': 3, 'Room Mate Aitana': 5, 'DoubleTree by Hilton London Chelsea': 3, 'Hotel G tico': 3, 'Hotel JL No76': 5, 'Bilderberg Hotel Jan Luyken': 4, 'Gran Hotel Barcino': 4, 'Aparthotel Atenea Barcelona': 4, 'Mercure Hotel Amsterdam City South': 3, 'Am Spiegeln': 5, 'Hotel Gallitzinberg': 5, 'InterContinental Wien': 4, 'Dutch Design Hotel Artemis': 4, 'Mercure Josefshof Wien': 3, 'Fleming s Selection Hotel Wien City': 3, 'Cordial Theaterhotel Wien': 5, 'Vincci Bit': 4, 'Hollmann Beletage Design Boutique': 4, 'Hotel Bristol A Luxury Collection Hotel': 3, 'Hotel Imperial A Luxury Collection Hotel': 4, 'The Ring Vienna s Casual Luxury Hotel': 5, 'Grand Hotel Wien': 3, 'Hotel Ambassador': 3, 'Austria Trend Hotel Astoria Wien': 3, 'Austria Trend Hotel Europa Wien': 4, 'Hotel Schani Wien': 3, 'Ozo Hotel': 3, 'Renaissance Amsterdam Hotel': 4, 'Canal House': 3, 'The Toren': 4, 'The Dylan Amsterdam': 4, 'Great Northern Hotel A Tribute Portfolio Hotel London': 4, 'De Vere Devonport House': 4, 'K K Hotel Maria Theresia': 3, 'Small Luxury Hotel Altstadt Vienna': 3, 'Der Wilhelmshof': 5, 'Park Plaza Vondelpark Amsterdam': 3, 'Hotel Bagu s': 3, 'Hotel 1898': 5, 'Hotel Serhs Rivoli Rambla': 3, 'Eurostars Ramblas': 4, 'Hilton London Wembley': 3, 'Corus Hotel Hyde Park': 3, 'London Elizabeth Hotel': 5, 'Lancaster London': 5, 'Hotel Daniel Vienna': 4, 'Eurostars Embassy': 5, 'BEST WESTERN PLUS Amedia Wien': 5, 'Mercure Grand Hotel Biedermeier Wien': 3, 'Hotel Rathaus Wein Design': 4, 'NH Collection Milano President': 3, 'Hotel Dieci': 3, 'Royal Ramblas': 3, 'Best Western Blue Tower Hotel': 4, 'Hampshire Hotel Amsterdam American': 5, 'Ilunion Bel Art': 5, '25hours Hotel beim MuseumsQuartier': 3, 'Hotel Topazz': 4, 'Hampshire Hotel The Manor Amsterdam': 5, 'Hotel Kavalier': 4, 'Ofelias Hotel 4 Sup': 4, 'Vincci Maritimo': 4, 'London Marriott Hotel County Hall': 4, 'The Level at Melia Barcelona Sky': 3, 'Eurohotel Diagonal Port': 4, 'Hotel Derby': 5, 'Hotel Gran Derby Suites': 3, 'Jumeirah Lowndes Hotel': 4, 'Catalonia Magdalenes': 4, 'Expo Hotel Barcelona': 3, 'The Corner Hotel': 3, 'Best Western Premier Hotel Dante': 3, 'Hotel Balmes': 4, 'Alexandra Barcelona A DoubleTree by Hilton': 3, 'Alma Barcelona GL': 3, 'Room Mate Carla': 5, 'The Mandeville Hotel': 5, 'Hallmark Hotel London Chigwell Prince Regent': 3, 'Upper Diagonal': 5, 'Falkensteiner Hotel Wien Margareten': 4, 'Holiday Inn Vienna City': 4, 'pentahotel Vienna': 3, 'IntercityHotel Wien': 4, 'Boutiquehotel Das Tyrol': 4, 'NH Wien City': 3, 'Hotel Corvinus': 4, 'NH Collection Wien Zentrum': 5, 'Aparthotel Mariano Cubi Barcelona': 4, 'Hotel Arts Barcelona': 4, 'Leonardo Hotel Vienna': 5, 'JUFA Hotel Wien': 5, 'Golden Tulip Amsterdam West': 5, 'Eurostars Grand Marina Hotel GL': 3, 'Pakat Suites Hotel': 4, 'Guitart Grand Passage': 5, 'Hotel Rekord': 5, 'Catalonia Barcelona 505': 5, 'Mercure Amsterdam Sloterdijk Station': 5, 'DoubleTree by Hilton Hotel Amsterdam NDSM Wharf': 5, 'Hotel V Nesplein': 3, 'Fleming s Conference Hotel Wien': 4, 'ARCOTEL Wimberger': 3, 'Hotel Schild': 5, 'Acta CITY47': 4, 'De L Europe Amsterdam': 4, 'NH Collection Amsterdam Doelen': 3, 'Hotel Die Port van Cleve': 4, 'INK Hotel Amsterdam MGallery by Sofitel': 3, 'Inntel Hotels Amsterdam Centre': 5, 'Apex City Of London Hotel': 4, 'Mercure Hotel Amsterdam Centre Canal District': 3, 'Onix Liceo': 4, 'Abba Sants': 3, 'NH Sants Barcelona': 5, 'COMO Metropolitan London': 3, 'Aloft London Excel': 3, 'Ham Yard Hotel': 5, 'DoubleTree by Hilton Amsterdam Centraal Station': 5, 'Das Opernring Hotel': 3, 'Exe Vienna': 3, 'Mercure Hotel Amsterdam West': 5, 'Luxury Suites Amsterdam': 4, 'Sofitel Legend The Grand Amsterdam': 4, 'Sir Adam Hotel': 4, 'Hotel Grums Barcelona': 4, 'Hotel Spa Villa Olimpica Suites': 3, 'Sall s Hotel Pere IV': 5, 'Hampton by Hilton Amsterdam Centre East': 5, 'Hotel Beethoven Wien': 4, 'Roomz Vienna': 3, 'Silken Concordia': 3, 'Grosvenor House A JW Marriott Hotel': 3, 'Hotel Am Parkring': 3, 'Vienna Marriott Hotel': 3, 'H10 Port Vell 4 Sup': 5, 'Hotel Margot House': 4, 'Condes de Barcelona': 3, 'Monument Hotel': 5, 'Occidental Atenea Mar Adults Only': 3, 'Hotel Front Maritim': 5, 'AC Hotel Barcelona Forum a Marriott Lifestyle Hotel': 4, 'Duquesa de Cardona': 3, 'Hotel The Serras': 3, 'Eurostars Bcn Design': 3, 'Mandarin Oriental Barcelona': 3, 'Hotel Casa Fuster G L Monumento': 4, 'Sixtytwo Hotel': 5, 'Majestic Hotel Spa Barcelona GL': 4, 'Royal Passeig de Gracia': 5, 'K K Hotel Picasso': 3, 'AC Hotel Sants a Marriott Lifestyle Hotel': 5, 'Hilton Diagonal Mar Barcelona': 3, 'Hotel Palais Strudlhof': 4, 'Renaissance Barcelona Hotel': 3, 'Claris Hotel Spa GL': 4, 'H10 Casa Mimosa 4 Sup': 4, 'Catalonia Ramblas 4 Sup': 5, 'Hotel Midmost': 4, 'Arthotel ANA Westbahn': 3, 'The Rookery': 4, 'Hotel Wandl': 4, 'Hotel Sacher Wien': 5, 'ME Milan Il Duca': 5, 'Hotel Principe Di Savoia': 4, 'The Westin Palace': 4, 'Glam Milano': 4, 'Excelsior Hotel Gallia Luxury Collection Hotel': 5, 'Rosa Grand Milano Starhotels Collezione': 4, 'TownHouse 12': 3, 'Hotel Mozart': 5, 'Hotel Dei Cavalieri': 5, 'Best Western Plus Hotel Galles': 3, 'Starhotels Anderson': 4, 'Hotel Michelangelo': 5, 'Hotel Mercure Milano Centro': 3, 'NYX Milan': 4, 'The Yard Milano': 5, 'Hotel Sunflower': 5, 'Sheraton Grand London Park Lane': 3, 'M venpick Hotel Amsterdam City Centre': 4, 'Silken Ramblas': 5, 'Duquesa Suites Barcelona': 4, 'Hotel SB Diagonal Zero Barcelona 4 Sup': 3, 'Hotel DO Pla a Reial G L ': 5, 'W Barcelona': 3, 'H10 Urquinaona Plaza': 5, 'Hotel du Louvre in the Unbound Collection by Hyatt': 5, 'W Paris Op ra': 3, 'Hotel Miramar Barcelona GL': 5, 'Olivia Plaza Hotel': 3, 'Catalonia Barcelona Plaza': 3, 'Barcel Sants': 4, 'London Marriott Maida Vale': 3, 'The Langham London': 4, 'The Ned': 3, 'Sofitel Vienna Stephansdom': 5, 'Grand Hotel Amr th Amsterdam': 3, 'art otel Amsterdam': 3, 'NH Collection Amsterdam Barbizon Palace': 5, 'Pulitzer Amsterdam': 4, 'Dikker en Thijs Fenice Hotel': 3, 'Andaz Amsterdam Prinsengracht A Hyatt Hotel': 4, 'Hotel Seven One Seven': 3, 'citizenM Amsterdam': 5, 'InterContinental Amstel Amsterdam': 5, 'Attica 21 Barcelona Mar': 5, 'Hotel America Barcelona': 5, 'Golden Tulip Amsterdam Riverside': 5, 'Catalonia Park Putxet': 3, 'Hotel Murmuri Barcelona': 3, 'NH Collection Barcelona Gran Hotel Calder n': 5, 'H10 Metropolitan 4 Sup': 5, 'HCC Regente': 3, 'Barcel Raval': 3, 'Le M ridien Barcelona': 3, 'Ilunion Barcelona': 5, 'Austria Trend Hotel Rathauspark Wien': 3, 'Hotel Landhaus Fuhrgassl Huber': 4, 'Hotel Parco di Sch nbrunn Vienna': 3, 'Catalonia Born': 3, 'NH Amsterdam Caransa': 5, 'NH Amsterdam Schiller': 4, 'Royal Amsterdam Hotel': 3, 'Lindner Hotel Am Belvedere': 5, 'NH Wien Belvedere': 5, 'Austria Trend Hotel Savoyen Vienna': 3, 'Austria Trend Hotel Doppio Wien': 3, 'K West Hotel Spa': 5, 'Appartement Hotel an der Riemergasse': 3, 'Saint SHERMIN bed breakfast champagne': 3, 'The Wittmore Adults Only': 4, 'Le Meridien Vienna': 3, 'The College Hotel': 3, 'Hotel Roemer Amsterdam': 3, 'Hotel mbit Barcelona': 4, 'Catalonia Eixample 1864': 3, 'Negresco Princess 4 Sup': 3, 'Petit Palace Barcelona': 5, 'Roger de Ll ria': 4, 'Hotel Garbi Millenni': 3, 'Vincci Gala': 5, 'Catalonia Square 4 Sup': 3, 'H10 Universitat': 4, 'Bcn Urban Hotels Gran Rosellon': 4, 'Gallery Hotel': 4, 'Hotel Omm': 4, 'Ayre Hotel Rosell n': 4, 'Evenia Rossello': 3, 'Hotel Imlauer Wien': 3, 'Hotel Nestroy Wien': 3, 'Hotel Lam e': 4, 'Crowne Plaza London Docklands': 5, 'K K Palais Hotel': 5, 'Radisson Blu Hotel Amsterdam': 5, 'Catalonia Rigoletto': 4, 'Hotel Neri': 5, 'Capri by Fraser Barcelona': 5, 'Hotel Espa a Ramblas': 5, 'Abba Garden': 3, 'Zenit Barcelona': 3, 'Hyatt Regency Amsterdam': 3, 'Austria Trend Hotel Schloss Wilhelminenberg Wien': 5, 'Copthorne Tara Hotel London Kensington': 3, 'Courtyard by Marriott Vienna Schoenbrunn': 4, 'Arthotel ANA Prime': 3, 'Fletcher Hotel Amsterdam': 3, 'Austria Trend Hotel Park Royal Palace Vienna': 4, 'Falkensteiner Hotel Wien Zentrum Schottenfeld': 3, 'Hilton Vienna Plaza': 3, 'Palais Hansen Kempinski Vienna': 5, 'Hotel de France Wien': 5, 'Grand Ferdinand Vienna Your Hotel In The City Center': 3, 'Hotel Am Schubertring': 5, 'The Ritz Carlton Vienna': 3, 'Hotel K nig von Ungarn': 4, 'Hotel Domizil': 4, 'Hotel Capricorno': 5, 'Hotel Advance': 5, 'Derag Livinghotel Kaiser Franz Joseph Vienna': 4, 'Room Mate Giulia': 4, 'Simm s Hotel': 3, 'Hotel Esther a': 5, 'Hotel Royal': 5, 'Sloane Square Hotel': 4, 'Best Western Plus Hotel Blue Square': 5, 'Austria Trend Hotel Ananas Wien': 4, 'Hotel Zeitgeist Vienna Hauptbahnhof': 4, 'AZIMUT Hotel Vienna': 3, 'Hilton London Canary Wharf': 5, 'Grange Holborn Hotel': 4, 'WestCord Art Hotel Amsterdam 4 stars': 4, 'W Amsterdam': 4, 'NH City Centre Amsterdam': 4, 'The Stafford London': 5, 'The Tower A Guoman Hotel': 4, 'Ramada Apollo Amsterdam Centre': 5, 'Amsterdam Marriott Hotel': 3, 'Park Hotel': 3, 'NH Amsterdam Centre': 4, 'DO CO Hotel Vienna': 3, 'Hotel Am Stephansplatz': 4, 'The Savoy': 3, 'The May Fair Hotel': 5, 'Best Western Hotel Pension Arenberg Wien Zentrum': 4, 'Hotel Stefanie': 4, 'Hotel City Central': 5, 'Amba Hotel Charing Cross': 3, 'Hotel Das Tigra': 3, 'Holiday Inn London Brent Cross': 4, 'Bermondsey Square Hotel A Bespoke Hotel': 4, 'Courtyard by Marriott Vienna Prater Messe': 3, 'NH Barcelona Stadium': 3, 'Imperial Riding School Renaissance Vienna Hotel': 4, 'Aparthotel Adagio Vienna City': 5, 'Mercure Barcelona Condor': 5, 'H10 Cubik 4 Sup': 5, 'Sunotel Club Central': 5, 'Conservatorium Hotel': 5, 'NH Amsterdam Zuid': 5, 'Hotel Tocq': 4, 'The Square Milano Duomo': 4, 'Mandarin Oriental Milan': 4, 'Art Hotel Navigli': 4, 'Hotel Balmoral': 3, 'Brunelleschi Hotel': 3, 'Camperio House Suites Apartments': 5, 'TownHouse 33': 5, 'Hotel Capitol Milano': 4, 'Hotel Clerici': 5, 'UNA Hotel Cusani': 4, 'Hotel Pierre Milano': 3, 'MiHotel': 3, 'Hotel Milano Scala': 5, 'IH Hotels Milano Gioia': 4, 'Style Hotel': 3, 'Andreola Central Hotel': 4, 'Hotel Bristol': 3, 'Admiral Hotel': 3, 'UNA Hotel Century': 5, 'Hotel Marconi': 4, 'Hotel Cavour': 5, 'Best Western Plus Hotel Felice Casati': 3, 'Nu Hotel': 4, 'Hotel Magna Pars Small Luxury Hotels of the World': 3, 'Mercure Milano Regency': 4, 'Hotel Auriga': 3, 'Hotel Portello Gruppo Minihotel': 4, 'Idea Hotel Milano San Siro': 3, 'Windsor Hotel Milano': 5, 'Four Points Sheraton Milan Center': 5, 'Four Seasons Hotel Milano': 4, 'IH Hotels Milano Watt 13': 5, 'LaGare Hotel Milano Centrale MGallery by Sofitel': 3, 'Barcel Milan': 5, 'UNA Hotel Scandinavia': 4, 'Acca Palace': 3, 'Sina De La Ville': 3, 'UNA Hotel Mediterraneo': 4, 'Hotel La Spezia Gruppo MiniHotel': 5, 'Exe Laietana Palace': 3, 'Grand Hotel Central': 4, 'Ilunion Almirante': 4, 'Ohla Barcelona': 4, 'Barcelona Hotel Colonial': 3, 'NH Milano Machiavelli': 3, 'Hotel Sanpi Milano': 5, 'Best Western Hotel Ascot': 5, 'Ca Bianca Hotel Corte Del Naviglio': 3, 'IH Hotels Milano Lorenteggio': 4, 'Hilton Garden Inn Milan North': 3, 'DoubleTree By Hilton Milan': 5, 'Hilton Milan': 4, 'Hotel Wagner': 3, 'Hotel Boutique Duomo': 4, 'Hotel Manin': 5, 'Grand Hotel et de Milan': 5, 'Armani Hotel Milano': 5, 'Meli Milano': 3, 'Hotel Mediolanum': 4, 'UNA Maison Milano': 4, 'Novotel Milano Linate Aeroporto': 3, 'Hotel Carrobbio': 3, 'NH Milano Grand Hotel Verdi': 4, 'Crowne Plaza Milan City': 5, 'Leonardo Hotel Milan City Center': 3, 'Petit Palais Hotel De Charme': 3, 'Mokinba Hotels Montebianco': 5, 'Hotel Mentana': 4, 'Atahotel Contessa Jolanda': 4, 'Hotel Berna': 4, 'Best Western Atlantic Hotel': 5, 'LHP Hotel Napoleon': 5, 'Ibis Styles Milano Palmanova': 5, 'Mokinba Hotels Baviera': 5, 'Hotel Vittoria': 4, 'Starhotels Business Palace': 5, 'Hotel Mercure Milano Solari': 4, 'ADI Hotel Poliziano Fiera': 4, 'Bulgari Hotel Milano': 5, 'Best Western Madison Hotel': 5, 'The Hub Hotel': 5, 'Hotel Silver': 5, 'Colombia': 3, 'Antares Hotel Rubens': 5, 'STRAF a Member of Design Hotels ': 3, 'Sina The Gray': 5, 'Antica Locanda Dei Mercanti': 4, 'Palazzo Segreti': 4, 'Hotel Santa Marta Suites': 4, 'TH Street Duomo': 5, 'Uptown Palace': 3, 'Hotel Manzoni': 4, 'Senato Hotel Milano': 4, 'Baglioni Hotel Carlton The Leading Hotels of the World': 4, 'Hotel Da Vinci': 4, 'TownHouse Duomo': 4, 'TownHouse Galleria': 3, 'Hotel Spadari Al Duomo': 5, 'Starhotels Ritz': 3, 'Ramada Plaza Milano': 5, 'NH Milano Touring': 5, 'AC Hotel Milano a Marriott Lifestyle Hotel': 5, 'Hotel Tiziano Park Vita Parcour Gruppo MiniHotels': 3, 'Park Hyatt Milano': 5, 'Nhow Milan': 4, 'Holiday Inn Milan Garibaldi Station': 5, 'Milan Suite Hotel': 5, 'Klima Hotel Milano Fiere': 4, 'Radisson Blu Hotel Milan': 3, 'Milan Marriott Hotel': 3, 'ADI Doria Grand Hotel': 3, 'Starhotels Echo': 3, 'Bianca Maria Palace Hotel': 5, 'Hotel D Este': 3, 'Hotel Liberty': 4, 'Best Western Hotel Mirage': 4, 'Hotel Raffaello': 3, 'Antares Hotel Accademia': 3, 'Starhotels Tourist': 3, 'Grand Visconti Palace': 5, 'Best Western Hotel Major': 5, 'Hotel Lombardia': 4, 'NH Milano Palazzo Moscova': 4, 'Best Western Antares Hotel Concorde': 5, 'Atahotel Linea Uno': 3, 'Best Western Hotel Astoria': 4, 'Sheraton Diana Majestic': 4, 'Hotel degli Arcimboldi': 3, 'Novotel Milano Nord Ca Granda': 3, 'Best Western Hotel St George': 4, 'NH Carlton Amsterdam': 3, 'Albus Hotel Amsterdam City Centre': 3, 'Hotel Vilamar ': 5, 'Vilana Hotel': 5, 'Acevi Villarroel': 3, 'Hotel Arkadenhof': 4, 'Hotel Vondel Amsterdam': 4, 'Hotel Pension Baron am Schottentor': 5, 'Hotel Atlanta': 3, 'Park Inn by Radisson Uno City Vienna': 3, 'NH Danube City': 4, 'Strandhotel Alte Donau': 5, 'ARCOTEL Kaiserwasser Superior': 5, 'Mercure Hotel Raphael Wien': 5, 'Arthotel ANA Boutique Six': 4, 'Austria Trend Hotel Anatol Wien': 5, 'Hotel Kaiserin Elisabeth': 5, 'Boutique Hotel Notting Hill': 4, 'Crowne Plaza London Ealing': 4, 'Good Hotel London': 5, 'Park Plaza Westminster Bridge London': 3, 'Hotel du Vin Cannizaro House Wimbledon': 5, 'Amsterdam Canal Residence': 5, 'Thistle Trafalgar Square The Royal Trafalgar': 5, 'Corinthia Hotel London': 3, 'The Student Hotel Amsterdam City': 5, 'Hotel Prinz Eugen': 3, 'Hotel Erzherzog Rainer': 5, 'Das Triest Hotel': 5, 'Suite Hotel 900 m zur Oper': 5, 'Hotel Amadeus': 5, 'The Berkeley': 4, 'Holiday Inn London Kensington': 3, 'Atlantis Hotel Vienna': 4}\n"
     ]
    }
   ],
   "source": [
    "import random\n",
    "\n",
    "hotelNames=df['Hotel_Name']\n",
    "allHotels=[]\n",
    "\n",
    "for i in hotelNames:\n",
    "    if i not in allHotels:\n",
    "        allHotels.append(i)\n",
    "\n",
    "hotelStars={}\n",
    "for i in allHotels:\n",
    "    hotelStars[i]=random.randint(3,5)\n",
    "\n",
    "print(hotelStars)"
   ]
  },
  {
   "cell_type": "code",
   "execution_count": 11,
   "metadata": {},
   "outputs": [],
   "source": [
    "df['Stars']=df['Hotel_Name'].map(hotelStars)"
   ]
  },
  {
   "cell_type": "code",
   "execution_count": 14,
   "metadata": {},
   "outputs": [
    {
     "data": {
      "text/html": [
       "<div>\n",
       "<style scoped>\n",
       "    .dataframe tbody tr th:only-of-type {\n",
       "        vertical-align: middle;\n",
       "    }\n",
       "\n",
       "    .dataframe tbody tr th {\n",
       "        vertical-align: top;\n",
       "    }\n",
       "\n",
       "    .dataframe thead th {\n",
       "        text-align: right;\n",
       "    }\n",
       "</style>\n",
       "<table border=\"1\" class=\"dataframe\">\n",
       "  <thead>\n",
       "    <tr style=\"text-align: right;\">\n",
       "      <th></th>\n",
       "      <th>Hotel_Address</th>\n",
       "      <th>Average_Score</th>\n",
       "      <th>Hotel_Name</th>\n",
       "      <th>Positive_Review</th>\n",
       "      <th>Reviewer_Score</th>\n",
       "      <th>Tags</th>\n",
       "      <th>countries</th>\n",
       "      <th>Stars</th>\n",
       "    </tr>\n",
       "  </thead>\n",
       "  <tbody>\n",
       "    <tr>\n",
       "      <th>118486</th>\n",
       "      <td>239 Vauxhall Bridge Road Westminster Borough L...</td>\n",
       "      <td>8.6</td>\n",
       "      <td>Park Plaza Victoria London</td>\n",
       "      <td>great location and got an early check in with...</td>\n",
       "      <td>7.9</td>\n",
       "      <td>Leisure trip  Family with young children  Exe...</td>\n",
       "      <td>UK</td>\n",
       "      <td>4</td>\n",
       "    </tr>\n",
       "    <tr>\n",
       "      <th>187234</th>\n",
       "      <td>419 437 Hackney Road London E2 8PP UK</td>\n",
       "      <td>7.8</td>\n",
       "      <td>The RE London Shoreditch</td>\n",
       "      <td>location cleanliness and staff all very good</td>\n",
       "      <td>9.2</td>\n",
       "      <td>Leisure trip  Couple  Twin Room  Stayed 2 nig...</td>\n",
       "      <td>UK</td>\n",
       "      <td>4</td>\n",
       "    </tr>\n",
       "    <tr>\n",
       "      <th>312269</th>\n",
       "      <td>Delflandlaan 15 Slotervaart 1062 EA Amsterdam NL</td>\n",
       "      <td>8.7</td>\n",
       "      <td>Best Western Premier Hotel Couture</td>\n",
       "      <td>joanna made our trip so much easier we experi...</td>\n",
       "      <td>10.0</td>\n",
       "      <td>Couple  Standard Double or Twin Room  Stayed ...</td>\n",
       "      <td>NL</td>\n",
       "      <td>3</td>\n",
       "    </tr>\n",
       "    <tr>\n",
       "      <th>232077</th>\n",
       "      <td>68 Regent Street West End Mayfair Westminster ...</td>\n",
       "      <td>9.3</td>\n",
       "      <td>Hotel Cafe Royal</td>\n",
       "      <td>no positive</td>\n",
       "      <td>7.9</td>\n",
       "      <td>Leisure trip  Family with young children  Del...</td>\n",
       "      <td>UK</td>\n",
       "      <td>4</td>\n",
       "    </tr>\n",
       "    <tr>\n",
       "      <th>422044</th>\n",
       "      <td>Prinses Irenestraat 30 Zuideramstel 1077 WX Am...</td>\n",
       "      <td>8.6</td>\n",
       "      <td>citizenM Amsterdam</td>\n",
       "      <td>big bed light and sound settings fit to your ...</td>\n",
       "      <td>8.3</td>\n",
       "      <td>Business trip  Solo traveler  Double Room  St...</td>\n",
       "      <td>NL</td>\n",
       "      <td>5</td>\n",
       "    </tr>\n",
       "  </tbody>\n",
       "</table>\n",
       "</div>"
      ],
      "text/plain": [
       "                                            Hotel_Address  Average_Score  \\\n",
       "118486  239 Vauxhall Bridge Road Westminster Borough L...            8.6   \n",
       "187234              419 437 Hackney Road London E2 8PP UK            7.8   \n",
       "312269   Delflandlaan 15 Slotervaart 1062 EA Amsterdam NL            8.7   \n",
       "232077  68 Regent Street West End Mayfair Westminster ...            9.3   \n",
       "422044  Prinses Irenestraat 30 Zuideramstel 1077 WX Am...            8.6   \n",
       "\n",
       "                                Hotel_Name  \\\n",
       "118486          Park Plaza Victoria London   \n",
       "187234            The RE London Shoreditch   \n",
       "312269  Best Western Premier Hotel Couture   \n",
       "232077                    Hotel Cafe Royal   \n",
       "422044                  citizenM Amsterdam   \n",
       "\n",
       "                                          Positive_Review  Reviewer_Score  \\\n",
       "118486   great location and got an early check in with...             7.9   \n",
       "187234       location cleanliness and staff all very good             9.2   \n",
       "312269   joanna made our trip so much easier we experi...            10.0   \n",
       "232077                                        no positive             7.9   \n",
       "422044   big bed light and sound settings fit to your ...             8.3   \n",
       "\n",
       "                                                     Tags countries  Stars  \n",
       "118486   Leisure trip  Family with young children  Exe...        UK      4  \n",
       "187234   Leisure trip  Couple  Twin Room  Stayed 2 nig...        UK      4  \n",
       "312269   Couple  Standard Double or Twin Room  Stayed ...        NL      3  \n",
       "232077   Leisure trip  Family with young children  Del...        UK      4  \n",
       "422044   Business trip  Solo traveler  Double Room  St...        NL      5  "
      ]
     },
     "execution_count": 14,
     "metadata": {},
     "output_type": "execute_result"
    }
   ],
   "source": [
    "df.sample(5)"
   ]
  },
  {
   "cell_type": "code",
   "execution_count": 15,
   "metadata": {},
   "outputs": [],
   "source": [
    "import pickle\n",
    "\n",
    "pickle.dump(df,open(\"hotelModelPickle.pkl\",\"wb\"))"
   ]
  }
 ],
 "metadata": {
  "kernelspec": {
   "display_name": "Python 3",
   "language": "python",
   "name": "python3"
  },
  "language_info": {
   "codemirror_mode": {
    "name": "ipython",
    "version": 3
   },
   "file_extension": ".py",
   "mimetype": "text/x-python",
   "name": "python",
   "nbconvert_exporter": "python",
   "pygments_lexer": "ipython3",
   "version": "3.12.3"
  }
 },
 "nbformat": 4,
 "nbformat_minor": 2
}
